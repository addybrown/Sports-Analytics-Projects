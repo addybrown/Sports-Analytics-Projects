{
 "cells": [
  {
   "cell_type": "code",
   "execution_count": 2,
   "metadata": {},
   "outputs": [],
   "source": [
    "import pandas as pd\n",
    "import numpy as np\n",
    "import matplotlib.pyplot as plt\n",
    "import seaborn as sns"
   ]
  },
  {
   "cell_type": "code",
   "execution_count": 95,
   "metadata": {},
   "outputs": [],
   "source": [
    "df=pd.read_csv('Seasons_Stats.csv')\n",
    "df.drop_duplicates(keep='first',subset=['Player','Year'],inplace=True)"
   ]
  },
  {
   "cell_type": "code",
   "execution_count": 96,
   "metadata": {},
   "outputs": [],
   "source": [
    "df1=df[pd.isnull(df['GS'])==False]"
   ]
  },
  {
   "cell_type": "code",
   "execution_count": 97,
   "metadata": {},
   "outputs": [],
   "source": [
    "df1=df1.drop(['Unnamed: 0','Tm','Pos','Age','blank2','blanl'],axis=1)\n",
    "df1=df1.groupby(['Player','Year']).mean()"
   ]
  },
  {
   "cell_type": "code",
   "execution_count": 98,
   "metadata": {},
   "outputs": [],
   "source": [
    "from sklearn.model_selection import train_test_split"
   ]
  },
  {
   "cell_type": "code",
   "execution_count": 99,
   "metadata": {},
   "outputs": [],
   "source": [
    "allstar=pd.read_excel('All_Star.xls', index_col=None, header=None)\n",
    "allstar.columns=['Player','Years']"
   ]
  },
  {
   "cell_type": "code",
   "execution_count": 100,
   "metadata": {},
   "outputs": [],
   "source": [
    "def extrapolate(cols):\n",
    "    value=int(cols[5:])-int(cols[:4])\n",
    "    m=''\n",
    "    for i in range(0,value+1):\n",
    "        x=int(cols[:4])+i\n",
    "        x=str(x)\n",
    "        m=m+x+';'\n",
    "    \n",
    "    return m"
   ]
  },
  {
   "cell_type": "code",
   "execution_count": 101,
   "metadata": {},
   "outputs": [],
   "source": [
    "year1=[]\n",
    "for year in allstar['Years']:\n",
    "    year1.append(str(year).replace(' ',''))  "
   ]
  },
  {
   "cell_type": "code",
   "execution_count": 102,
   "metadata": {},
   "outputs": [],
   "source": [
    "year2=[]\n",
    "for a in year1:\n",
    "    year2.append(a.replace('\\xa0',''))"
   ]
  },
  {
   "cell_type": "code",
   "execution_count": 103,
   "metadata": {},
   "outputs": [],
   "source": [
    "year3=[]\n",
    "l=0\n",
    "for i in year2:\n",
    "    b=''\n",
    "    for j in i.split(';'):\n",
    "        if '–' in j:\n",
    "            k=extrapolate(str(j))\n",
    "        else:\n",
    "            k=str(j)+';'\n",
    "        b=b+k\n",
    "    year3.insert(l,b)\n",
    "    l=l+1\n",
    "    "
   ]
  },
  {
   "cell_type": "code",
   "execution_count": 104,
   "metadata": {},
   "outputs": [],
   "source": [
    "year3 = [x[:-1] for x in year3]"
   ]
  },
  {
   "cell_type": "code",
   "execution_count": 105,
   "metadata": {},
   "outputs": [],
   "source": [
    "m=0\n",
    "year4=[]\n",
    "for player in year3:\n",
    "    c=[]\n",
    "    for i in player.split(';'):\n",
    "        c.append(float(i))\n",
    "    year4.insert(m,c)   \n",
    "    m=m+1"
   ]
  },
  {
   "cell_type": "code",
   "execution_count": 106,
   "metadata": {},
   "outputs": [],
   "source": [
    "from  itertools import chain\n",
    "\n",
    "y=[len(x) for x in year4]\n",
    "all_star= pd.DataFrame({'Player': np.repeat(allstar['Player'].values, y),\n",
    "        'Year': list(chain.from_iterable(year4))})"
   ]
  },
  {
   "cell_type": "code",
   "execution_count": 107,
   "metadata": {},
   "outputs": [],
   "source": [
    "df4=pd.merge(df, all_star,right_on=['Player','Year'],left_on=['Player','Year'], how='left', indicator='Exist')"
   ]
  },
  {
   "cell_type": "code",
   "execution_count": 108,
   "metadata": {},
   "outputs": [],
   "source": [
    "df4['Exist'] = np.where(df4.Exist == 'both', True, False)"
   ]
  },
  {
   "cell_type": "code",
   "execution_count": 109,
   "metadata": {},
   "outputs": [
    {
     "data": {
      "text/html": [
       "<div>\n",
       "<style scoped>\n",
       "    .dataframe tbody tr th:only-of-type {\n",
       "        vertical-align: middle;\n",
       "    }\n",
       "\n",
       "    .dataframe tbody tr th {\n",
       "        vertical-align: top;\n",
       "    }\n",
       "\n",
       "    .dataframe thead th {\n",
       "        text-align: right;\n",
       "    }\n",
       "</style>\n",
       "<table border=\"1\" class=\"dataframe\">\n",
       "  <thead>\n",
       "    <tr style=\"text-align: right;\">\n",
       "      <th></th>\n",
       "      <th>Unnamed: 0</th>\n",
       "      <th>Year</th>\n",
       "      <th>Player</th>\n",
       "      <th>Pos</th>\n",
       "      <th>Age</th>\n",
       "      <th>Tm</th>\n",
       "      <th>G</th>\n",
       "      <th>GS</th>\n",
       "      <th>MP</th>\n",
       "      <th>PER</th>\n",
       "      <th>...</th>\n",
       "      <th>ORB</th>\n",
       "      <th>DRB</th>\n",
       "      <th>TRB</th>\n",
       "      <th>AST</th>\n",
       "      <th>STL</th>\n",
       "      <th>BLK</th>\n",
       "      <th>TOV</th>\n",
       "      <th>PF</th>\n",
       "      <th>PTS</th>\n",
       "      <th>Exist</th>\n",
       "    </tr>\n",
       "  </thead>\n",
       "  <tbody>\n",
       "    <tr>\n",
       "      <th>13998</th>\n",
       "      <td>16746</td>\n",
       "      <td>2004.0</td>\n",
       "      <td>LeBron James</td>\n",
       "      <td>SG</td>\n",
       "      <td>19.0</td>\n",
       "      <td>CLE</td>\n",
       "      <td>79.0</td>\n",
       "      <td>79.0</td>\n",
       "      <td>3122.0</td>\n",
       "      <td>18.3</td>\n",
       "      <td>...</td>\n",
       "      <td>99.0</td>\n",
       "      <td>333.0</td>\n",
       "      <td>432.0</td>\n",
       "      <td>465.0</td>\n",
       "      <td>130.0</td>\n",
       "      <td>58.0</td>\n",
       "      <td>273.0</td>\n",
       "      <td>149.0</td>\n",
       "      <td>1654.0</td>\n",
       "      <td>False</td>\n",
       "    </tr>\n",
       "    <tr>\n",
       "      <th>14452</th>\n",
       "      <td>17344</td>\n",
       "      <td>2005.0</td>\n",
       "      <td>LeBron James</td>\n",
       "      <td>SF</td>\n",
       "      <td>20.0</td>\n",
       "      <td>CLE</td>\n",
       "      <td>80.0</td>\n",
       "      <td>80.0</td>\n",
       "      <td>3388.0</td>\n",
       "      <td>25.7</td>\n",
       "      <td>...</td>\n",
       "      <td>111.0</td>\n",
       "      <td>477.0</td>\n",
       "      <td>588.0</td>\n",
       "      <td>577.0</td>\n",
       "      <td>177.0</td>\n",
       "      <td>52.0</td>\n",
       "      <td>262.0</td>\n",
       "      <td>146.0</td>\n",
       "      <td>2175.0</td>\n",
       "      <td>True</td>\n",
       "    </tr>\n",
       "    <tr>\n",
       "      <th>14908</th>\n",
       "      <td>17918</td>\n",
       "      <td>2006.0</td>\n",
       "      <td>LeBron James</td>\n",
       "      <td>SF</td>\n",
       "      <td>21.0</td>\n",
       "      <td>CLE</td>\n",
       "      <td>79.0</td>\n",
       "      <td>79.0</td>\n",
       "      <td>3361.0</td>\n",
       "      <td>28.1</td>\n",
       "      <td>...</td>\n",
       "      <td>75.0</td>\n",
       "      <td>481.0</td>\n",
       "      <td>556.0</td>\n",
       "      <td>521.0</td>\n",
       "      <td>123.0</td>\n",
       "      <td>66.0</td>\n",
       "      <td>260.0</td>\n",
       "      <td>181.0</td>\n",
       "      <td>2478.0</td>\n",
       "      <td>True</td>\n",
       "    </tr>\n",
       "    <tr>\n",
       "      <th>15366</th>\n",
       "      <td>18460</td>\n",
       "      <td>2007.0</td>\n",
       "      <td>LeBron James</td>\n",
       "      <td>SF</td>\n",
       "      <td>22.0</td>\n",
       "      <td>CLE</td>\n",
       "      <td>78.0</td>\n",
       "      <td>78.0</td>\n",
       "      <td>3190.0</td>\n",
       "      <td>24.5</td>\n",
       "      <td>...</td>\n",
       "      <td>83.0</td>\n",
       "      <td>443.0</td>\n",
       "      <td>526.0</td>\n",
       "      <td>470.0</td>\n",
       "      <td>125.0</td>\n",
       "      <td>55.0</td>\n",
       "      <td>250.0</td>\n",
       "      <td>171.0</td>\n",
       "      <td>2132.0</td>\n",
       "      <td>True</td>\n",
       "    </tr>\n",
       "    <tr>\n",
       "      <th>15828</th>\n",
       "      <td>19017</td>\n",
       "      <td>2008.0</td>\n",
       "      <td>LeBron James</td>\n",
       "      <td>SF</td>\n",
       "      <td>23.0</td>\n",
       "      <td>CLE</td>\n",
       "      <td>75.0</td>\n",
       "      <td>74.0</td>\n",
       "      <td>3027.0</td>\n",
       "      <td>29.1</td>\n",
       "      <td>...</td>\n",
       "      <td>133.0</td>\n",
       "      <td>459.0</td>\n",
       "      <td>592.0</td>\n",
       "      <td>539.0</td>\n",
       "      <td>138.0</td>\n",
       "      <td>81.0</td>\n",
       "      <td>255.0</td>\n",
       "      <td>165.0</td>\n",
       "      <td>2250.0</td>\n",
       "      <td>True</td>\n",
       "    </tr>\n",
       "    <tr>\n",
       "      <th>16275</th>\n",
       "      <td>19611</td>\n",
       "      <td>2009.0</td>\n",
       "      <td>LeBron James</td>\n",
       "      <td>SF</td>\n",
       "      <td>24.0</td>\n",
       "      <td>CLE</td>\n",
       "      <td>81.0</td>\n",
       "      <td>81.0</td>\n",
       "      <td>3054.0</td>\n",
       "      <td>31.7</td>\n",
       "      <td>...</td>\n",
       "      <td>106.0</td>\n",
       "      <td>507.0</td>\n",
       "      <td>613.0</td>\n",
       "      <td>587.0</td>\n",
       "      <td>137.0</td>\n",
       "      <td>93.0</td>\n",
       "      <td>241.0</td>\n",
       "      <td>139.0</td>\n",
       "      <td>2304.0</td>\n",
       "      <td>True</td>\n",
       "    </tr>\n",
       "    <tr>\n",
       "      <th>16733</th>\n",
       "      <td>20207</td>\n",
       "      <td>2010.0</td>\n",
       "      <td>LeBron James</td>\n",
       "      <td>SF</td>\n",
       "      <td>25.0</td>\n",
       "      <td>CLE</td>\n",
       "      <td>76.0</td>\n",
       "      <td>76.0</td>\n",
       "      <td>2966.0</td>\n",
       "      <td>31.1</td>\n",
       "      <td>...</td>\n",
       "      <td>71.0</td>\n",
       "      <td>483.0</td>\n",
       "      <td>554.0</td>\n",
       "      <td>651.0</td>\n",
       "      <td>125.0</td>\n",
       "      <td>77.0</td>\n",
       "      <td>261.0</td>\n",
       "      <td>119.0</td>\n",
       "      <td>2258.0</td>\n",
       "      <td>True</td>\n",
       "    </tr>\n",
       "    <tr>\n",
       "      <th>17179</th>\n",
       "      <td>20812</td>\n",
       "      <td>2011.0</td>\n",
       "      <td>LeBron James</td>\n",
       "      <td>SF</td>\n",
       "      <td>26.0</td>\n",
       "      <td>MIA</td>\n",
       "      <td>79.0</td>\n",
       "      <td>79.0</td>\n",
       "      <td>3063.0</td>\n",
       "      <td>27.3</td>\n",
       "      <td>...</td>\n",
       "      <td>80.0</td>\n",
       "      <td>510.0</td>\n",
       "      <td>590.0</td>\n",
       "      <td>554.0</td>\n",
       "      <td>124.0</td>\n",
       "      <td>50.0</td>\n",
       "      <td>284.0</td>\n",
       "      <td>163.0</td>\n",
       "      <td>2111.0</td>\n",
       "      <td>True</td>\n",
       "    </tr>\n",
       "    <tr>\n",
       "      <th>17638</th>\n",
       "      <td>21395</td>\n",
       "      <td>2012.0</td>\n",
       "      <td>LeBron James</td>\n",
       "      <td>SF</td>\n",
       "      <td>27.0</td>\n",
       "      <td>MIA</td>\n",
       "      <td>62.0</td>\n",
       "      <td>62.0</td>\n",
       "      <td>2326.0</td>\n",
       "      <td>30.7</td>\n",
       "      <td>...</td>\n",
       "      <td>94.0</td>\n",
       "      <td>398.0</td>\n",
       "      <td>492.0</td>\n",
       "      <td>387.0</td>\n",
       "      <td>115.0</td>\n",
       "      <td>50.0</td>\n",
       "      <td>213.0</td>\n",
       "      <td>96.0</td>\n",
       "      <td>1683.0</td>\n",
       "      <td>True</td>\n",
       "    </tr>\n",
       "    <tr>\n",
       "      <th>18095</th>\n",
       "      <td>21933</td>\n",
       "      <td>2013.0</td>\n",
       "      <td>LeBron James</td>\n",
       "      <td>PF</td>\n",
       "      <td>28.0</td>\n",
       "      <td>MIA</td>\n",
       "      <td>76.0</td>\n",
       "      <td>76.0</td>\n",
       "      <td>2877.0</td>\n",
       "      <td>31.6</td>\n",
       "      <td>...</td>\n",
       "      <td>97.0</td>\n",
       "      <td>513.0</td>\n",
       "      <td>610.0</td>\n",
       "      <td>551.0</td>\n",
       "      <td>129.0</td>\n",
       "      <td>67.0</td>\n",
       "      <td>226.0</td>\n",
       "      <td>110.0</td>\n",
       "      <td>2036.0</td>\n",
       "      <td>True</td>\n",
       "    </tr>\n",
       "    <tr>\n",
       "      <th>18577</th>\n",
       "      <td>22548</td>\n",
       "      <td>2014.0</td>\n",
       "      <td>LeBron James</td>\n",
       "      <td>PF</td>\n",
       "      <td>29.0</td>\n",
       "      <td>MIA</td>\n",
       "      <td>77.0</td>\n",
       "      <td>77.0</td>\n",
       "      <td>2902.0</td>\n",
       "      <td>29.3</td>\n",
       "      <td>...</td>\n",
       "      <td>81.0</td>\n",
       "      <td>452.0</td>\n",
       "      <td>533.0</td>\n",
       "      <td>488.0</td>\n",
       "      <td>121.0</td>\n",
       "      <td>26.0</td>\n",
       "      <td>270.0</td>\n",
       "      <td>126.0</td>\n",
       "      <td>2089.0</td>\n",
       "      <td>True</td>\n",
       "    </tr>\n",
       "    <tr>\n",
       "      <th>19067</th>\n",
       "      <td>23154</td>\n",
       "      <td>2015.0</td>\n",
       "      <td>LeBron James</td>\n",
       "      <td>SF</td>\n",
       "      <td>30.0</td>\n",
       "      <td>CLE</td>\n",
       "      <td>69.0</td>\n",
       "      <td>69.0</td>\n",
       "      <td>2493.0</td>\n",
       "      <td>25.9</td>\n",
       "      <td>...</td>\n",
       "      <td>51.0</td>\n",
       "      <td>365.0</td>\n",
       "      <td>416.0</td>\n",
       "      <td>511.0</td>\n",
       "      <td>109.0</td>\n",
       "      <td>49.0</td>\n",
       "      <td>272.0</td>\n",
       "      <td>135.0</td>\n",
       "      <td>1743.0</td>\n",
       "      <td>True</td>\n",
       "    </tr>\n",
       "    <tr>\n",
       "      <th>19545</th>\n",
       "      <td>23781</td>\n",
       "      <td>2016.0</td>\n",
       "      <td>LeBron James</td>\n",
       "      <td>SF</td>\n",
       "      <td>31.0</td>\n",
       "      <td>CLE</td>\n",
       "      <td>76.0</td>\n",
       "      <td>76.0</td>\n",
       "      <td>2709.0</td>\n",
       "      <td>27.5</td>\n",
       "      <td>...</td>\n",
       "      <td>111.0</td>\n",
       "      <td>454.0</td>\n",
       "      <td>565.0</td>\n",
       "      <td>514.0</td>\n",
       "      <td>104.0</td>\n",
       "      <td>49.0</td>\n",
       "      <td>249.0</td>\n",
       "      <td>143.0</td>\n",
       "      <td>1920.0</td>\n",
       "      <td>True</td>\n",
       "    </tr>\n",
       "    <tr>\n",
       "      <th>20020</th>\n",
       "      <td>24365</td>\n",
       "      <td>2017.0</td>\n",
       "      <td>LeBron James</td>\n",
       "      <td>SF</td>\n",
       "      <td>32.0</td>\n",
       "      <td>CLE</td>\n",
       "      <td>74.0</td>\n",
       "      <td>74.0</td>\n",
       "      <td>2794.0</td>\n",
       "      <td>27.0</td>\n",
       "      <td>...</td>\n",
       "      <td>97.0</td>\n",
       "      <td>543.0</td>\n",
       "      <td>640.0</td>\n",
       "      <td>646.0</td>\n",
       "      <td>92.0</td>\n",
       "      <td>44.0</td>\n",
       "      <td>303.0</td>\n",
       "      <td>134.0</td>\n",
       "      <td>1954.0</td>\n",
       "      <td>True</td>\n",
       "    </tr>\n",
       "  </tbody>\n",
       "</table>\n",
       "<p>14 rows × 54 columns</p>\n",
       "</div>"
      ],
      "text/plain": [
       "       Unnamed: 0    Year        Player Pos   Age   Tm     G    GS      MP  \\\n",
       "13998       16746  2004.0  LeBron James  SG  19.0  CLE  79.0  79.0  3122.0   \n",
       "14452       17344  2005.0  LeBron James  SF  20.0  CLE  80.0  80.0  3388.0   \n",
       "14908       17918  2006.0  LeBron James  SF  21.0  CLE  79.0  79.0  3361.0   \n",
       "15366       18460  2007.0  LeBron James  SF  22.0  CLE  78.0  78.0  3190.0   \n",
       "15828       19017  2008.0  LeBron James  SF  23.0  CLE  75.0  74.0  3027.0   \n",
       "16275       19611  2009.0  LeBron James  SF  24.0  CLE  81.0  81.0  3054.0   \n",
       "16733       20207  2010.0  LeBron James  SF  25.0  CLE  76.0  76.0  2966.0   \n",
       "17179       20812  2011.0  LeBron James  SF  26.0  MIA  79.0  79.0  3063.0   \n",
       "17638       21395  2012.0  LeBron James  SF  27.0  MIA  62.0  62.0  2326.0   \n",
       "18095       21933  2013.0  LeBron James  PF  28.0  MIA  76.0  76.0  2877.0   \n",
       "18577       22548  2014.0  LeBron James  PF  29.0  MIA  77.0  77.0  2902.0   \n",
       "19067       23154  2015.0  LeBron James  SF  30.0  CLE  69.0  69.0  2493.0   \n",
       "19545       23781  2016.0  LeBron James  SF  31.0  CLE  76.0  76.0  2709.0   \n",
       "20020       24365  2017.0  LeBron James  SF  32.0  CLE  74.0  74.0  2794.0   \n",
       "\n",
       "        PER  ...      ORB    DRB    TRB    AST    STL   BLK    TOV     PF  \\\n",
       "13998  18.3  ...     99.0  333.0  432.0  465.0  130.0  58.0  273.0  149.0   \n",
       "14452  25.7  ...    111.0  477.0  588.0  577.0  177.0  52.0  262.0  146.0   \n",
       "14908  28.1  ...     75.0  481.0  556.0  521.0  123.0  66.0  260.0  181.0   \n",
       "15366  24.5  ...     83.0  443.0  526.0  470.0  125.0  55.0  250.0  171.0   \n",
       "15828  29.1  ...    133.0  459.0  592.0  539.0  138.0  81.0  255.0  165.0   \n",
       "16275  31.7  ...    106.0  507.0  613.0  587.0  137.0  93.0  241.0  139.0   \n",
       "16733  31.1  ...     71.0  483.0  554.0  651.0  125.0  77.0  261.0  119.0   \n",
       "17179  27.3  ...     80.0  510.0  590.0  554.0  124.0  50.0  284.0  163.0   \n",
       "17638  30.7  ...     94.0  398.0  492.0  387.0  115.0  50.0  213.0   96.0   \n",
       "18095  31.6  ...     97.0  513.0  610.0  551.0  129.0  67.0  226.0  110.0   \n",
       "18577  29.3  ...     81.0  452.0  533.0  488.0  121.0  26.0  270.0  126.0   \n",
       "19067  25.9  ...     51.0  365.0  416.0  511.0  109.0  49.0  272.0  135.0   \n",
       "19545  27.5  ...    111.0  454.0  565.0  514.0  104.0  49.0  249.0  143.0   \n",
       "20020  27.0  ...     97.0  543.0  640.0  646.0   92.0  44.0  303.0  134.0   \n",
       "\n",
       "          PTS  Exist  \n",
       "13998  1654.0  False  \n",
       "14452  2175.0   True  \n",
       "14908  2478.0   True  \n",
       "15366  2132.0   True  \n",
       "15828  2250.0   True  \n",
       "16275  2304.0   True  \n",
       "16733  2258.0   True  \n",
       "17179  2111.0   True  \n",
       "17638  1683.0   True  \n",
       "18095  2036.0   True  \n",
       "18577  2089.0   True  \n",
       "19067  1743.0   True  \n",
       "19545  1920.0   True  \n",
       "20020  1954.0   True  \n",
       "\n",
       "[14 rows x 54 columns]"
      ]
     },
     "execution_count": 109,
     "metadata": {},
     "output_type": "execute_result"
    }
   ],
   "source": [
    "df4[df4['Player']=='LeBron James']"
   ]
  },
  {
   "cell_type": "code",
   "execution_count": 110,
   "metadata": {},
   "outputs": [],
   "source": [
    "from sklearn.model_selection import train_test_split"
   ]
  },
  {
   "cell_type": "code",
   "execution_count": 111,
   "metadata": {},
   "outputs": [],
   "source": [
    "df4=df4[pd.isnull(df4['GS'])==False]\n",
    "df5=df4.drop(['Unnamed: 0','Pos', 'Age', 'Tm', 'G','blanl','blank2'],axis=1)\n",
    "df6=df5.groupby(['Player','Year']).mean()\n",
    "df6.dropna(inplace=True)"
   ]
  },
  {
   "cell_type": "code",
   "execution_count": 112,
   "metadata": {},
   "outputs": [],
   "source": [
    "x=df6.drop(['Exist'],axis=1)\n",
    "y=df6['Exist']"
   ]
  },
  {
   "cell_type": "code",
   "execution_count": 113,
   "metadata": {},
   "outputs": [],
   "source": [
    "x_train,x_test,y_train,y_test=train_test_split(x,y,test_size=0.30,random_state=42)"
   ]
  },
  {
   "cell_type": "code",
   "execution_count": 114,
   "metadata": {},
   "outputs": [],
   "source": [
    "from sklearn.linear_model import LogisticRegression"
   ]
  },
  {
   "cell_type": "code",
   "execution_count": 115,
   "metadata": {},
   "outputs": [
    {
     "data": {
      "text/plain": [
       "LogisticRegression(C=1.0, class_weight=None, dual=False, fit_intercept=True,\n",
       "          intercept_scaling=1, max_iter=100, multi_class='ovr', n_jobs=1,\n",
       "          penalty='l2', random_state=None, solver='liblinear', tol=0.0001,\n",
       "          verbose=0, warm_start=False)"
      ]
     },
     "execution_count": 115,
     "metadata": {},
     "output_type": "execute_result"
    }
   ],
   "source": [
    "logmodel = LogisticRegression()\n",
    "logmodel.fit(x_train,y_train)"
   ]
  },
  {
   "cell_type": "code",
   "execution_count": 116,
   "metadata": {},
   "outputs": [],
   "source": [
    "predictions=logmodel.predict(x_test)"
   ]
  },
  {
   "cell_type": "code",
   "execution_count": 117,
   "metadata": {},
   "outputs": [],
   "source": [
    "from sklearn.metrics import classification_report,confusion_matrix"
   ]
  },
  {
   "cell_type": "code",
   "execution_count": 118,
   "metadata": {},
   "outputs": [
    {
     "name": "stdout",
     "output_type": "stream",
     "text": [
      "             precision    recall  f1-score   support\n",
      "\n",
      "      False       0.97      0.99      0.98      3457\n",
      "       True       0.76      0.53      0.63       245\n",
      "\n",
      "avg / total       0.95      0.96      0.95      3702\n",
      "\n",
      "[[3415   42]\n",
      " [ 114  131]]\n"
     ]
    }
   ],
   "source": [
    "print(classification_report(y_test,predictions))\n",
    "print(confusion_matrix(y_test,predictions))"
   ]
  },
  {
   "cell_type": "code",
   "execution_count": 119,
   "metadata": {},
   "outputs": [],
   "source": [
    "coefficients=pd.DataFrame(logmodel.coef_.T,x_train.columns.values)\n",
    "coefficients.columns=['Coefficients']"
   ]
  },
  {
   "cell_type": "code",
   "execution_count": 120,
   "metadata": {},
   "outputs": [
    {
     "data": {
      "text/plain": [
       "array(['GS', 'MP', 'PER', 'TS%', '3PAr', 'FTr', 'ORB%', 'DRB%', 'TRB%',\n",
       "       'AST%', 'STL%', 'BLK%', 'TOV%', 'USG%', 'OWS', 'DWS', 'WS',\n",
       "       'WS/48', 'OBPM', 'DBPM', 'BPM', 'VORP', 'FG', 'FGA', 'FG%', '3P',\n",
       "       '3PA', '3P%', '2P', '2PA', '2P%', 'eFG%', 'FT', 'FTA', 'FT%',\n",
       "       'ORB', 'DRB', 'TRB', 'AST', 'STL', 'BLK', 'TOV', 'PF', 'PTS'],\n",
       "      dtype=object)"
      ]
     },
     "execution_count": 120,
     "metadata": {},
     "output_type": "execute_result"
    }
   ],
   "source": [
    "x_train.columns.values"
   ]
  },
  {
   "cell_type": "code",
   "execution_count": 121,
   "metadata": {},
   "outputs": [
    {
     "data": {
      "text/html": [
       "<div>\n",
       "<style scoped>\n",
       "    .dataframe tbody tr th:only-of-type {\n",
       "        vertical-align: middle;\n",
       "    }\n",
       "\n",
       "    .dataframe tbody tr th {\n",
       "        vertical-align: top;\n",
       "    }\n",
       "\n",
       "    .dataframe thead th {\n",
       "        text-align: right;\n",
       "    }\n",
       "</style>\n",
       "<table border=\"1\" class=\"dataframe\">\n",
       "  <thead>\n",
       "    <tr style=\"text-align: right;\">\n",
       "      <th></th>\n",
       "      <th>Coefficients</th>\n",
       "    </tr>\n",
       "  </thead>\n",
       "  <tbody>\n",
       "    <tr>\n",
       "      <th>FTr</th>\n",
       "      <td>0.108249</td>\n",
       "    </tr>\n",
       "    <tr>\n",
       "      <th>TRB%</th>\n",
       "      <td>0.278195</td>\n",
       "    </tr>\n",
       "    <tr>\n",
       "      <th>BLK%</th>\n",
       "      <td>0.560115</td>\n",
       "    </tr>\n",
       "    <tr>\n",
       "      <th>USG%</th>\n",
       "      <td>0.378994</td>\n",
       "    </tr>\n",
       "    <tr>\n",
       "      <th>DWS</th>\n",
       "      <td>0.405252</td>\n",
       "    </tr>\n",
       "    <tr>\n",
       "      <th>WS</th>\n",
       "      <td>0.361661</td>\n",
       "    </tr>\n",
       "    <tr>\n",
       "      <th>OBPM</th>\n",
       "      <td>0.459048</td>\n",
       "    </tr>\n",
       "    <tr>\n",
       "      <th>BPM</th>\n",
       "      <td>0.587901</td>\n",
       "    </tr>\n",
       "  </tbody>\n",
       "</table>\n",
       "</div>"
      ],
      "text/plain": [
       "      Coefficients\n",
       "FTr       0.108249\n",
       "TRB%      0.278195\n",
       "BLK%      0.560115\n",
       "USG%      0.378994\n",
       "DWS       0.405252\n",
       "WS        0.361661\n",
       "OBPM      0.459048\n",
       "BPM       0.587901"
      ]
     },
     "execution_count": 121,
     "metadata": {},
     "output_type": "execute_result"
    }
   ],
   "source": [
    "coefficients[coefficients['Coefficients']>0.1]"
   ]
  },
  {
   "cell_type": "code",
   "execution_count": 122,
   "metadata": {},
   "outputs": [],
   "source": [
    "#What has been learned is that the model works reasonably well in predicting an all-star within 78%\n",
    "#Also very good at predicting players who had good seasons "
   ]
  },
  {
   "cell_type": "code",
   "execution_count": 123,
   "metadata": {},
   "outputs": [],
   "source": [
    "#Try another Method of classification"
   ]
  },
  {
   "cell_type": "code",
   "execution_count": 124,
   "metadata": {},
   "outputs": [],
   "source": [
    "from sklearn.ensemble import RandomForestClassifier"
   ]
  },
  {
   "cell_type": "code",
   "execution_count": 125,
   "metadata": {},
   "outputs": [],
   "source": [
    "rfc = RandomForestClassifier(n_estimators=600)"
   ]
  },
  {
   "cell_type": "code",
   "execution_count": 126,
   "metadata": {},
   "outputs": [],
   "source": [
    "rfc = RandomForestClassifier(n_estimators=600)\n",
    "rfc.fit(x_train,y_train)\n",
    "rfc_pred = rfc.predict(x_test)"
   ]
  },
  {
   "cell_type": "code",
   "execution_count": 127,
   "metadata": {},
   "outputs": [
    {
     "name": "stdout",
     "output_type": "stream",
     "text": [
      "             precision    recall  f1-score   support\n",
      "\n",
      "      False       0.97      0.99      0.98      3457\n",
      "       True       0.76      0.54      0.63       245\n",
      "\n",
      "avg / total       0.95      0.96      0.95      3702\n",
      "\n",
      "[[3414   43]\n",
      " [ 112  133]]\n"
     ]
    }
   ],
   "source": [
    "print(classification_report(y_test,rfc_pred))\n",
    "print(confusion_matrix(y_test,rfc_pred))"
   ]
  },
  {
   "cell_type": "code",
   "execution_count": 128,
   "metadata": {},
   "outputs": [],
   "source": [
    "#RandomTreeClassifier is the same performance as logistic Regression "
   ]
  },
  {
   "cell_type": "code",
   "execution_count": 129,
   "metadata": {},
   "outputs": [],
   "source": [
    "#Creating a Ranking System Based on Machine Learned Classification\n",
    "\n",
    "#Creates sum of the co-efficients of highest weighting \n",
    "coeff_sum=coefficients[coefficients['Coefficients']>0.1].sum()\n",
    "T=coefficients[coefficients['Coefficients']>0.1]/coeff_sum"
   ]
  },
  {
   "cell_type": "code",
   "execution_count": 133,
   "metadata": {},
   "outputs": [],
   "source": [
    "allstar=df[['Player','Year', 'FTr','TRB%','BLK%','USG%','DWS', 'WS', 'OBPM', 'BPM']].dropna()\n",
    "allstar=allstar.groupby(['Player','Year']).mean()"
   ]
  },
  {
   "cell_type": "code",
   "execution_count": 131,
   "metadata": {},
   "outputs": [],
   "source": [
    "Ratings=pd.DataFrame(allstar.values.dot(T.values),index=allstar.index)"
   ]
  },
  {
   "cell_type": "code",
   "execution_count": 132,
   "metadata": {},
   "outputs": [],
   "source": [
    "Ratings.columns=['Rating']"
   ]
  },
  {
   "cell_type": "code",
   "execution_count": null,
   "metadata": {},
   "outputs": [],
   "source": []
  },
  {
   "cell_type": "code",
   "execution_count": null,
   "metadata": {},
   "outputs": [],
   "source": []
  },
  {
   "cell_type": "code",
   "execution_count": 951,
   "metadata": {},
   "outputs": [],
   "source": []
  },
  {
   "cell_type": "code",
   "execution_count": null,
   "metadata": {},
   "outputs": [],
   "source": []
  }
 ],
 "metadata": {
  "kernelspec": {
   "display_name": "Python 3",
   "language": "python",
   "name": "python3"
  },
  "language_info": {
   "codemirror_mode": {
    "name": "ipython",
    "version": 3
   },
   "file_extension": ".py",
   "mimetype": "text/x-python",
   "name": "python",
   "nbconvert_exporter": "python",
   "pygments_lexer": "ipython3",
   "version": "3.6.5"
  }
 },
 "nbformat": 4,
 "nbformat_minor": 2
}

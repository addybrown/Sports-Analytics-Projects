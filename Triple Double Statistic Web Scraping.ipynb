{
 "cells": [
  {
   "cell_type": "code",
   "execution_count": 239,
   "metadata": {},
   "outputs": [],
   "source": [
    "import requests \n",
    "import bs4 \n",
    "import re\n",
    "import pandas as pd"
   ]
  },
  {
   "cell_type": "code",
   "execution_count": null,
   "metadata": {},
   "outputs": [],
   "source": [
    "#GOAL OF SCRIPT IS TO WEB SCRAPE TRIPLE DOUBLE DATA AND EXPORT TO EXCEL FILE"
   ]
  },
  {
   "cell_type": "code",
   "execution_count": 234,
   "metadata": {},
   "outputs": [],
   "source": [
    "Player=[]\n",
    "Triple_Doubles=[]\n",
    "Year=[]\n",
    "\n",
    "#range in between data is available \n",
    "for i in range(1990,2018):\n",
    "    \n",
    "    \n",
    "    #clear all variables on iteration\n",
    "    a=[]\n",
    "    \n",
    "    #gets request from site to web-scrap\n",
    "    res=requests.get('http://www.landofbasketball.com/year_by_year_stats/'+str(i-1)+'_'+str(i)+'_triple_doubles_rs.htm')\n",
    "    soup=bs4.BeautifulSoup(res.text,'lxml')\n",
    "    storage=[]\n",
    "    \n",
    "    #saves xml format\n",
    "    for line in soup:\n",
    "        storage.append(line)\n",
    "        \n",
    "    #takes second value of xml code as 1st line is just 'html'\n",
    "    a=str(storage[1]).split('style=\"width: 140px')\n",
    "    \n",
    "    #clear Player and TripleDouble Variables\n",
    "    #Player=[]\n",
    "    #Triple_Doubles=[]\n",
    "    #Year=[]\n",
    "    \n",
    "    #Finds values inbetween harded coded xml elements that point to player name and triple doubles\n",
    "    for value in a[1:]:\n",
    "        d1 = re.search('htm\">(.*)</a>', value)\n",
    "        d2= re.search('class=\"negri\">(.*)</td>',value)\n",
    "        Player.append(d1.group(1))\n",
    "        Triple_Doubles.append(d2.group(1))\n",
    "        Year.append(i)"
   ]
  },
  {
   "cell_type": "code",
   "execution_count": 249,
   "metadata": {},
   "outputs": [],
   "source": [
    "d3 = {'Year': Year, 'TD':  Triple_Doubles}"
   ]
  },
  {
   "cell_type": "code",
   "execution_count": 250,
   "metadata": {},
   "outputs": [],
   "source": [
    "df=pd.DataFrame(d3,index=Player)"
   ]
  },
  {
   "cell_type": "code",
   "execution_count": 251,
   "metadata": {},
   "outputs": [],
   "source": [
    "df.index.names = ['Player']"
   ]
  },
  {
   "cell_type": "code",
   "execution_count": 252,
   "metadata": {},
   "outputs": [],
   "source": [
    "writer = pd.ExcelWriter('TD.xlsx')"
   ]
  },
  {
   "cell_type": "code",
   "execution_count": 253,
   "metadata": {},
   "outputs": [],
   "source": [
    "df.to_excel(writer,'Sheet1')\n",
    "writer.save()"
   ]
  },
  {
   "cell_type": "code",
   "execution_count": null,
   "metadata": {},
   "outputs": [],
   "source": []
  },
  {
   "cell_type": "code",
   "execution_count": null,
   "metadata": {},
   "outputs": [],
   "source": []
  },
  {
   "cell_type": "code",
   "execution_count": null,
   "metadata": {},
   "outputs": [],
   "source": []
  },
  {
   "cell_type": "code",
   "execution_count": null,
   "metadata": {},
   "outputs": [],
   "source": []
  },
  {
   "cell_type": "code",
   "execution_count": null,
   "metadata": {},
   "outputs": [],
   "source": []
  },
  {
   "cell_type": "code",
   "execution_count": null,
   "metadata": {},
   "outputs": [],
   "source": []
  },
  {
   "cell_type": "code",
   "execution_count": null,
   "metadata": {},
   "outputs": [],
   "source": []
  }
 ],
 "metadata": {
  "kernelspec": {
   "display_name": "Python 3",
   "language": "python",
   "name": "python3"
  },
  "language_info": {
   "codemirror_mode": {
    "name": "ipython",
    "version": 3
   },
   "file_extension": ".py",
   "mimetype": "text/x-python",
   "name": "python",
   "nbconvert_exporter": "python",
   "pygments_lexer": "ipython3",
   "version": "3.6.5"
  }
 },
 "nbformat": 4,
 "nbformat_minor": 2
}
